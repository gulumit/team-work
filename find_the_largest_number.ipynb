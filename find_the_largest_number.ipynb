{
  "nbformat": 4,
  "nbformat_minor": 0,
  "metadata": {
    "colab": {
      "name": "find the largest number.ipynb",
      "provenance": [],
      "collapsed_sections": [],
      "authorship_tag": "ABX9TyOjyL7DLbZRlTwH0N88sXhQ",
      "include_colab_link": true
    },
    "kernelspec": {
      "name": "python3",
      "display_name": "Python 3"
    },
    "language_info": {
      "name": "python"
    }
  },
  "cells": [
    {
      "cell_type": "markdown",
      "metadata": {
        "id": "view-in-github",
        "colab_type": "text"
      },
      "source": [
        "<a href=\"https://colab.research.google.com/github/gulumit/team-work/blob/main/find_the_largest_number.ipynb\" target=\"_parent\"><img src=\"https://colab.research.google.com/assets/colab-badge.svg\" alt=\"Open In Colab\"/></a>"
      ]
    },
    {
      "cell_type": "code",
      "execution_count": null,
      "metadata": {
        "colab": {
          "base_uri": "https://localhost:8080/"
        },
        "id": "WepMHmaAznk-",
        "outputId": "ed4645d3-29a6-4a6d-d7a8-e1d53dd7f2ca"
      },
      "outputs": [
        {
          "output_type": "stream",
          "name": "stdout",
          "text": [
            "Largest element is: 5\n"
          ]
        }
      ],
      "source": [
        "list1 = [1, 2, 3, 4, 5]\n",
        "print(\"Largest element is:\", max(list1))"
      ]
    },
    {
      "cell_type": "code",
      "source": [
        "list2 = [67, 85, 19, 39]\n",
        "list2.sort()\n",
        "\n",
        "print(\"Largest element is: \", list2[-1])"
      ],
      "metadata": {
        "colab": {
          "base_uri": "https://localhost:8080/"
        },
        "id": "bqDtuEiN3kwK",
        "outputId": "58506ee0-1fd6-46ba-d5c9-894d8f66ecae"
      },
      "execution_count": null,
      "outputs": [
        {
          "output_type": "stream",
          "name": "stdout",
          "text": [
            "Largest element is:  85\n"
          ]
        }
      ]
    },
    {
      "cell_type": "code",
      "source": [
        "my_list = int(input(\"Enter the total no of element you want inside your list: \"))\n",
        "\n",
        "l = []\n",
        "\n",
        "for i in range(4):\n",
        "    ele = int(input(\"Enter the element: \"))\n",
        "    l.append(ele)\n",
        "print(\"my list \", l)\n",
        "\n",
        "sorted_list = l.sort()\n",
        "print(\"Sorted list: \", l)\n",
        "\n",
        "max_ele = l[-1]\n",
        "print(\"Largest number : \", max_ele)\n"
      ],
      "metadata": {
        "colab": {
          "base_uri": "https://localhost:8080/"
        },
        "id": "5aXCYIiCASUp",
        "outputId": "774ba538-58bc-4cda-ee5c-0e7970608030"
      },
      "execution_count": null,
      "outputs": [
        {
          "output_type": "stream",
          "name": "stdout",
          "text": [
            "Enter the total no of element you want inside your list: 4\n",
            "Enter the element: 67\n",
            "Enter the element: 85\n",
            "Enter the element: 19\n",
            "Enter the element: 39\n",
            "my list  [67, 85, 19, 39]\n",
            "Sorted list:  [19, 39, 67, 85]\n",
            "Largest number :  85\n"
          ]
        }
      ]
    },
    {
      "cell_type": "markdown",
      "source": [
        ""
      ],
      "metadata": {
        "id": "Q2_XWXEG7ZI9"
      }
    },
    {
      "cell_type": "code",
      "source": [
        "Write a python code that finds the largest number among the 5 numbers given by the user as input.\n",
        "\n",
        "It is forbidden to use max() function.\n",
        "\n",
        "Indicate which computational thinking concepts have you used.\n",
        "\n",
        "Example for user inputs and respective outputs\n",
        "\n",
        "Input            Output\n",
        "------------     ------\n",
        "1 2 3 4 5         5\n",
        "67 85 19 39       85"
      ],
      "metadata": {
        "id": "ix6Ttlvb7P13"
      },
      "execution_count": null,
      "outputs": []
    },
    {
      "cell_type": "code",
      "source": [
        "nums = list(map(int, input(\"Please enter numbers wih a space: \").split()))\n",
        "\n",
        "print(sorted(nums)[-1])"
      ],
      "metadata": {
        "colab": {
          "base_uri": "https://localhost:8080/"
        },
        "id": "VsqN4kBO7a80",
        "outputId": "fbbeabcb-87f2-474e-a694-58cffd121596"
      },
      "execution_count": 3,
      "outputs": [
        {
          "output_type": "stream",
          "name": "stdout",
          "text": [
            "Please enter numbers wih a space: 67 85 19 39\n",
            "85\n"
          ]
        }
      ]
    }
  ]
}